{
 "cells": [
  {
   "cell_type": "markdown",
   "id": "9c6a3914",
   "metadata": {},
   "source": [
    "#### Importação das bibliotecas"
   ]
  },
  {
   "cell_type": "code",
   "execution_count": 1,
   "id": "6e37ad2b",
   "metadata": {},
   "outputs": [],
   "source": [
    "# Manipulação e Análise de Dados\n",
    "import pandas as pd              \n",
    "import numpy as np  \n",
    "\n",
    "# Análises gráficas\n",
    "import seaborn as sns\n",
    "import matplotlib.pyplot as plt\n",
    "\n",
    "# Utilitários personalizados\n",
    "import importlib \n",
    "import sys                      \n",
    "\n",
    "if '.' not in sys.path:\n",
    "    sys.path.append('.')\n",
    "\n",
    "import src.eda_utils as eda_utils\n",
    "\n",
    "importlib.reload(eda_utils)\n",
    "\n",
    "importlib.reload(eda_utils)\n",
    "\n",
    "# Pré-processamento de dados e utilitários\n",
    "from sklearn.model_selection import train_test_split \n",
    "from imblearn.pipeline import Pipeline as ImbPipeline    \n",
    "from sklearn.compose import ColumnTransformer             \n",
    "from sklearn.preprocessing import OneHotEncoder, StandardScaler \n",
    "from sklearn.decomposition import PCA                    \n",
    "from sklearn.impute import SimpleImputer     \n",
    "from sklearn.model_selection import GridSearchCV      \n",
    "from category_encoders import TargetEncoder, OrdinalEncoder, OneHotEncoder \n",
    "\n",
    "# Modelos de machine learning\n",
    "from sklearn.tree import DecisionTreeClassifier         \n",
    "from sklearn.ensemble import RandomForestClassifier    \n",
    "from sklearn.linear_model import LogisticRegression   \n",
    "from sklearn.neighbors import KNeighborsClassifier   \n",
    "from sklearn.neural_network import MLPClassifier    \n",
    "from xgboost import XGBClassifier            \n",
    "from lightgbm import LGBMClassifier        \n",
    "\n",
    "# Avaliação de modelos\n",
    "from sklearn.model_selection import cross_val_score, KFold \n",
    "from sklearn.metrics import f1_score, confusion_matrix, classification_report, roc_curve, auc, precision_recall_curve, average_precision_score \n",
    "from imblearn.over_sampling import SMOTE                 \n",
    "import shap        "
   ]
  },
  {
   "cell_type": "markdown",
   "id": "2f78f0c4",
   "metadata": {},
   "source": [
    "### Modelagem Preditiva\n",
    "\n",
    "Este notebook tem como objetivo realizar uma modelagem preditiva sobre o conjunto de dados que realizei a EDA. O foco é aplicar técnicas de ciência de dados para:\n",
    "\n",
    "- Realizar o pré-processamento adequado;\n",
    "- Construir e avaliar modelos preditivos;\n",
    "- Identificar as variáveis mais importantes para a previsão;\n",
    "- Reduzir dimensionalidade e refinar o modelo final.\n",
    "\n",
    "Todo o fluxo é pensado para seguir as boas práticas de análise de dados e machine learning, com foco na interpretabilidade e desempenho.\n"
   ]
  },
  {
   "cell_type": "code",
   "execution_count": 2,
   "id": "6d834043",
   "metadata": {},
   "outputs": [
    {
     "data": {
      "text/html": [
       "<div>\n",
       "<style scoped>\n",
       "    .dataframe tbody tr th:only-of-type {\n",
       "        vertical-align: middle;\n",
       "    }\n",
       "\n",
       "    .dataframe tbody tr th {\n",
       "        vertical-align: top;\n",
       "    }\n",
       "\n",
       "    .dataframe thead th {\n",
       "        text-align: right;\n",
       "    }\n",
       "</style>\n",
       "<table border=\"1\" class=\"dataframe\">\n",
       "  <thead>\n",
       "    <tr style=\"text-align: right;\">\n",
       "      <th></th>\n",
       "      <th>transaction_id</th>\n",
       "      <th>customer_id</th>\n",
       "      <th>card_number</th>\n",
       "      <th>timestamp</th>\n",
       "      <th>merchant_category</th>\n",
       "      <th>merchant_type</th>\n",
       "      <th>merchant</th>\n",
       "      <th>amount</th>\n",
       "      <th>currency</th>\n",
       "      <th>country</th>\n",
       "      <th>...</th>\n",
       "      <th>device</th>\n",
       "      <th>channel</th>\n",
       "      <th>device_fingerprint</th>\n",
       "      <th>ip_address</th>\n",
       "      <th>distance_from_home</th>\n",
       "      <th>high_risk_merchant</th>\n",
       "      <th>transaction_hour</th>\n",
       "      <th>weekend_transaction</th>\n",
       "      <th>velocity_last_hour</th>\n",
       "      <th>is_fraud</th>\n",
       "    </tr>\n",
       "  </thead>\n",
       "  <tbody>\n",
       "    <tr>\n",
       "      <th>0</th>\n",
       "      <td>TX_4ab22d54</td>\n",
       "      <td>CUST_82892</td>\n",
       "      <td>5738137933342402</td>\n",
       "      <td>2024-10-06 08:15:53.391186+00:00</td>\n",
       "      <td>Grocery</td>\n",
       "      <td>physical</td>\n",
       "      <td>Publix</td>\n",
       "      <td>94563.82</td>\n",
       "      <td>NGN</td>\n",
       "      <td>Nigeria</td>\n",
       "      <td>...</td>\n",
       "      <td>Edge</td>\n",
       "      <td>web</td>\n",
       "      <td>72638d62dc2947cd71ddd357cada0fc7</td>\n",
       "      <td>97.38.79.211</td>\n",
       "      <td>0</td>\n",
       "      <td>False</td>\n",
       "      <td>8</td>\n",
       "      <td>True</td>\n",
       "      <td>{'num_transactions': 147, 'total_amount': 1747...</td>\n",
       "      <td>False</td>\n",
       "    </tr>\n",
       "    <tr>\n",
       "      <th>1</th>\n",
       "      <td>TX_ea8bc4c4</td>\n",
       "      <td>CUST_11713</td>\n",
       "      <td>5165954058618008</td>\n",
       "      <td>2024-10-02 23:50:41.349077+00:00</td>\n",
       "      <td>Grocery</td>\n",
       "      <td>physical</td>\n",
       "      <td>Whole Foods</td>\n",
       "      <td>2294.63</td>\n",
       "      <td>SGD</td>\n",
       "      <td>Singapore</td>\n",
       "      <td>...</td>\n",
       "      <td>Firefox</td>\n",
       "      <td>web</td>\n",
       "      <td>14659e43b27795da2eca3a31fe898d1e</td>\n",
       "      <td>12.60.16.22</td>\n",
       "      <td>0</td>\n",
       "      <td>False</td>\n",
       "      <td>23</td>\n",
       "      <td>False</td>\n",
       "      <td>{'num_transactions': 202, 'total_amount': 4961...</td>\n",
       "      <td>False</td>\n",
       "    </tr>\n",
       "    <tr>\n",
       "      <th>2</th>\n",
       "      <td>TX_13e615bc</td>\n",
       "      <td>CUST_39929</td>\n",
       "      <td>6926560310147757</td>\n",
       "      <td>2024-10-24 06:34:06.095346+00:00</td>\n",
       "      <td>Travel</td>\n",
       "      <td>airlines</td>\n",
       "      <td>Southwest</td>\n",
       "      <td>1317.48</td>\n",
       "      <td>AUD</td>\n",
       "      <td>Australia</td>\n",
       "      <td>...</td>\n",
       "      <td>Chrome</td>\n",
       "      <td>web</td>\n",
       "      <td>9a5613a87def2b365479a026c45185d6</td>\n",
       "      <td>90.128.168.46</td>\n",
       "      <td>0</td>\n",
       "      <td>True</td>\n",
       "      <td>6</td>\n",
       "      <td>False</td>\n",
       "      <td>{'num_transactions': 26, 'total_amount': 16121...</td>\n",
       "      <td>False</td>\n",
       "    </tr>\n",
       "    <tr>\n",
       "      <th>3</th>\n",
       "      <td>TX_6f2bf649</td>\n",
       "      <td>CUST_11387</td>\n",
       "      <td>4780951799780418</td>\n",
       "      <td>2024-10-30 19:45:18.275970+00:00</td>\n",
       "      <td>Education</td>\n",
       "      <td>supplies</td>\n",
       "      <td>University Bookstore</td>\n",
       "      <td>348.18</td>\n",
       "      <td>EUR</td>\n",
       "      <td>Germany</td>\n",
       "      <td>...</td>\n",
       "      <td>Safari</td>\n",
       "      <td>web</td>\n",
       "      <td>dd78ab660c34d8f9190ea56cdf48a22a</td>\n",
       "      <td>224.83.166.9</td>\n",
       "      <td>0</td>\n",
       "      <td>False</td>\n",
       "      <td>19</td>\n",
       "      <td>False</td>\n",
       "      <td>{'num_transactions': 9, 'total_amount': 4921.1...</td>\n",
       "      <td>False</td>\n",
       "    </tr>\n",
       "    <tr>\n",
       "      <th>4</th>\n",
       "      <td>TX_0e59df2d</td>\n",
       "      <td>CUST_56637</td>\n",
       "      <td>373665622256245</td>\n",
       "      <td>2024-10-20 21:00:54.533246+00:00</td>\n",
       "      <td>Gas</td>\n",
       "      <td>major</td>\n",
       "      <td>BP</td>\n",
       "      <td>663.01</td>\n",
       "      <td>SGD</td>\n",
       "      <td>Singapore</td>\n",
       "      <td>...</td>\n",
       "      <td>Chrome</td>\n",
       "      <td>web</td>\n",
       "      <td>cf1dc85b437163bac9464313fbd7cb11</td>\n",
       "      <td>1.216.161.171</td>\n",
       "      <td>0</td>\n",
       "      <td>False</td>\n",
       "      <td>21</td>\n",
       "      <td>True</td>\n",
       "      <td>{'num_transactions': 389, 'total_amount': 6072...</td>\n",
       "      <td>False</td>\n",
       "    </tr>\n",
       "  </tbody>\n",
       "</table>\n",
       "<p>5 rows × 24 columns</p>\n",
       "</div>"
      ],
      "text/plain": [
       "  transaction_id customer_id       card_number  \\\n",
       "0    TX_4ab22d54  CUST_82892  5738137933342402   \n",
       "1    TX_ea8bc4c4  CUST_11713  5165954058618008   \n",
       "2    TX_13e615bc  CUST_39929  6926560310147757   \n",
       "3    TX_6f2bf649  CUST_11387  4780951799780418   \n",
       "4    TX_0e59df2d  CUST_56637   373665622256245   \n",
       "\n",
       "                          timestamp merchant_category merchant_type  \\\n",
       "0  2024-10-06 08:15:53.391186+00:00           Grocery      physical   \n",
       "1  2024-10-02 23:50:41.349077+00:00           Grocery      physical   \n",
       "2  2024-10-24 06:34:06.095346+00:00            Travel      airlines   \n",
       "3  2024-10-30 19:45:18.275970+00:00         Education      supplies   \n",
       "4  2024-10-20 21:00:54.533246+00:00               Gas         major   \n",
       "\n",
       "               merchant    amount currency    country  ...   device channel  \\\n",
       "0                Publix  94563.82      NGN    Nigeria  ...     Edge     web   \n",
       "1           Whole Foods   2294.63      SGD  Singapore  ...  Firefox     web   \n",
       "2             Southwest   1317.48      AUD  Australia  ...   Chrome     web   \n",
       "3  University Bookstore    348.18      EUR    Germany  ...   Safari     web   \n",
       "4                    BP    663.01      SGD  Singapore  ...   Chrome     web   \n",
       "\n",
       "                 device_fingerprint     ip_address distance_from_home  \\\n",
       "0  72638d62dc2947cd71ddd357cada0fc7   97.38.79.211                  0   \n",
       "1  14659e43b27795da2eca3a31fe898d1e    12.60.16.22                  0   \n",
       "2  9a5613a87def2b365479a026c45185d6  90.128.168.46                  0   \n",
       "3  dd78ab660c34d8f9190ea56cdf48a22a   224.83.166.9                  0   \n",
       "4  cf1dc85b437163bac9464313fbd7cb11  1.216.161.171                  0   \n",
       "\n",
       "  high_risk_merchant transaction_hour weekend_transaction  \\\n",
       "0              False                8                True   \n",
       "1              False               23               False   \n",
       "2               True                6               False   \n",
       "3              False               19               False   \n",
       "4              False               21                True   \n",
       "\n",
       "                                  velocity_last_hour  is_fraud  \n",
       "0  {'num_transactions': 147, 'total_amount': 1747...     False  \n",
       "1  {'num_transactions': 202, 'total_amount': 4961...     False  \n",
       "2  {'num_transactions': 26, 'total_amount': 16121...     False  \n",
       "3  {'num_transactions': 9, 'total_amount': 4921.1...     False  \n",
       "4  {'num_transactions': 389, 'total_amount': 6072...     False  \n",
       "\n",
       "[5 rows x 24 columns]"
      ]
     },
     "execution_count": 2,
     "metadata": {},
     "output_type": "execute_result"
    }
   ],
   "source": [
    "df = pd.read_csv('transactions_sample.csv')\n",
    "df.head()"
   ]
  },
  {
   "cell_type": "markdown",
   "id": "d0555b58",
   "metadata": {},
   "source": [
    "A variável timestamp está como tipo object, o que pode comprometer qualquer análise temporal ou ordenação cronológica. Convertê-la para datetime permite extrair facilmente informações como ano, mês, dia da semana ou hora, recursos muitas vezes úteis na modelagem preditiva.\n"
   ]
  },
  {
   "cell_type": "code",
   "execution_count": 3,
   "id": "73c71386",
   "metadata": {},
   "outputs": [],
   "source": [
    "df['timestamp'] = pd.to_datetime(df['timestamp'], errors='coerce')\n",
    "df['timestamp'].dtype\n",
    "df.dropna(inplace=True)"
   ]
  },
  {
   "cell_type": "markdown",
   "id": "f6f55eb2",
   "metadata": {},
   "source": [
    "Antes de qualquer modelagem, precisamos garantir que conseguiremos avaliar o modelo de forma justa e realista.  \n",
    "Por isso, dividimos o dataset em dois subconjuntos: treino e teste.  \n",
    "- O conjunto de treino será usado para ensinar o modelo;\n",
    "- O conjunto de teste será guardado para avaliar a performance final, simulando como o modelo se sairia em novos dados do\n",
    "\"mundo real\".  \n",
    "\n",
    "Isso é essencial para medir a capacidade de generalização. Um modelo que vai bem apenas nos dados de treino pode estar\n",
    "\"decorando\" e não aprendendo de fato."
   ]
  },
  {
   "cell_type": "code",
   "execution_count": 4,
   "id": "665d9b5c",
   "metadata": {},
   "outputs": [],
   "source": [
    "X = df.drop(columns=['is_fraud'])\n",
    "y = df['is_fraud'].copy()\n",
    "\n",
    "X_train, X_test, y_train, y_test = train_test_split(X, y, test_size=0.2, stratify=y, random_state=42)"
   ]
  },
  {
   "cell_type": "markdown",
   "id": "c11b7667",
   "metadata": {},
   "source": [
    "#### Separação de variáveis categóricas e numéricas\n",
    "\n",
    "Essa etapa permite aplicar estratégias diferentes de pré-processamento para cada tipo de variável. Variáveis numéricas serão padronizadas, enquanto categóricas serão codificadas por técnicas adequadas como One-Hot Encoding ou Target Encoding.\n"
   ]
  },
  {
   "cell_type": "code",
   "execution_count": 5,
   "id": "4f09cc52",
   "metadata": {},
   "outputs": [
    {
     "name": "stdout",
     "output_type": "stream",
     "text": [
      "O dataset possui 4 variáveis numéricas.\n",
      "['card_number', 'amount', 'distance_from_home', 'transaction_hour']\n",
      "\n",
      "O dataset possui 15 variáveis categóricas.\n",
      "['transaction_id', 'customer_id', 'merchant_category', 'merchant_type', 'merchant', 'currency', 'country', 'city', 'city_size', 'card_type', 'device', 'channel', 'device_fingerprint', 'ip_address', 'velocity_last_hour']\n"
     ]
    }
   ],
   "source": [
    "numerical_features = X_train.select_dtypes('number').columns.tolist()\n",
    "categorical_features = X_train.select_dtypes('object').columns.tolist()\n",
    "\n",
    "print(f'O dataset possui {len(numerical_features)} variáveis numéricas.')\n",
    "print(numerical_features)\n",
    "print(f'\\nO dataset possui {len(categorical_features)} variáveis categóricas.')\n",
    "print(categorical_features)"
   ]
  },
  {
   "cell_type": "markdown",
   "id": "9b97660b",
   "metadata": {},
   "source": [
    "#### Análise de Cardinalidade\n",
    "\n",
    "Verificar a cardinalidade de cada coluna é essencial para:\n",
    "\n",
    "1. **Entender o tipo de dado e sua complexidade**  \n",
    "   Colunas com poucos valores únicos tendem a ser categóricas, enquanto colunas com muitos valores únicos podem ser identificadores (como ID, CPF) ou variáveis contínuas.\n",
    "\n",
    "2. **Evitar variáveis inúteis ou perigosas**  \n",
    "   Variáveis com cardinalidade muito alta podem causar overfitting se o modelo \"memorizar\" os dados.\n",
    "\n",
    "3. **Escolha do pré-processamento adequado**  \n",
    "   - Baixa cardinalidade: One-Hot Encoding funciona bem  \n",
    "   - Alta cardinalidade: exige técnicas como Target Encoding ou exclusão\n",
    "\n",
    "4. **Descobrir potencial explicativo**  \n",
    "   Variáveis como 'cidade', 'dispositivo', ou 'canal' podem ser importantes preditores mesmo com certa complexidade.\n",
    "\n",
    "5. **Detectar inconsistências nos dados**  \n",
    "   Cardinalidade excessiva pode indicar erros de preenchimento ou falta de padronização.\n"
   ]
  },
  {
   "cell_type": "code",
   "execution_count": 6,
   "id": "df27a69a",
   "metadata": {},
   "outputs": [
    {
     "name": "stdout",
     "output_type": "stream",
     "text": [
      "----------------------------------------\n",
      "Há 59868 valores únicos\n",
      "transaction_id\n",
      "TX_555328bf    0.000033\n",
      "TX_cc044ebc    0.000017\n",
      "TX_2f13224c    0.000017\n",
      "TX_c8a6ea10    0.000017\n",
      "TX_caf26f92    0.000017\n",
      "                 ...   \n",
      "TX_9593fa76    0.000017\n",
      "TX_5b559900    0.000017\n",
      "TX_926a424d    0.000017\n",
      "TX_6cd5ad60    0.000017\n",
      "TX_f21f9227    0.000017\n",
      "Name: proportion, Length: 59868, dtype: float64\n",
      "\n",
      "----------------------------------------\n",
      "Há 4868 valores únicos\n",
      "customer_id\n",
      "CUST_81009    0.000702\n",
      "CUST_91730    0.000635\n",
      "CUST_35145    0.000618\n",
      "CUST_16791    0.000601\n",
      "CUST_48092    0.000585\n",
      "                ...   \n",
      "CUST_60185    0.000033\n",
      "CUST_55721    0.000033\n",
      "CUST_99427    0.000033\n",
      "CUST_25102    0.000033\n",
      "CUST_33763    0.000017\n",
      "Name: proportion, Length: 4868, dtype: float64\n",
      "\n",
      "----------------------------------------\n",
      "Há 8 valores únicos\n",
      "merchant_category\n",
      "Education        0.128815\n",
      "Gas              0.127011\n",
      "Entertainment    0.125858\n",
      "Restaurant       0.124305\n",
      "Retail           0.123670\n",
      "Travel           0.123520\n",
      "Healthcare       0.123470\n",
      "Grocery          0.123353\n",
      "Name: proportion, dtype: float64\n",
      "\n",
      "----------------------------------------\n",
      "Há 17 valores únicos\n",
      "merchant_type\n",
      "online       0.189163\n",
      "physical     0.122016\n",
      "supplies     0.064658\n",
      "major        0.064340\n",
      "local        0.062670\n",
      "medical      0.062019\n",
      "pharmacy     0.061451\n",
      "events       0.043261\n",
      "casual       0.042593\n",
      "streaming    0.041841\n",
      "fast_food    0.041691\n",
      "gaming       0.040756\n",
      "premium      0.040021\n",
      "booking      0.031435\n",
      "transport    0.031101\n",
      "hotels       0.030567\n",
      "airlines     0.030416\n",
      "Name: proportion, dtype: float64\n",
      "\n",
      "----------------------------------------\n",
      "Há 105 valores únicos\n",
      "merchant\n",
      "Barnes & Noble          0.021981\n",
      "University Bookstore    0.021530\n",
      "Local Gas Station       0.021280\n",
      "Chegg                   0.021146\n",
      "Truck Stop              0.020929\n",
      "                          ...   \n",
      "Emirates                0.005078\n",
      "Marriott                0.005078\n",
      "JetBlue                 0.004894\n",
      "Delta                   0.004727\n",
      "Sheraton                0.004694\n",
      "Name: proportion, Length: 105, dtype: float64\n",
      "\n",
      "----------------------------------------\n",
      "Há 11 valores únicos\n",
      "currency\n",
      "EUR    0.144582\n",
      "NGN    0.111527\n",
      "RUB    0.107284\n",
      "BRL    0.106850\n",
      "MXN    0.104996\n",
      "SGD    0.077302\n",
      "GBP    0.072609\n",
      "JPY    0.070754\n",
      "CAD    0.069418\n",
      "USD    0.067564\n",
      "AUD    0.067113\n",
      "Name: proportion, dtype: float64\n",
      "\n",
      "----------------------------------------\n",
      "Há 12 valores únicos\n",
      "country\n",
      "Nigeria      0.111527\n",
      "Russia       0.107284\n",
      "Brazil       0.106850\n",
      "Mexico       0.104996\n",
      "Singapore    0.077302\n",
      "Germany      0.072625\n",
      "UK           0.072609\n",
      "France       0.071957\n",
      "Japan        0.070754\n",
      "Canada       0.069418\n",
      "USA          0.067564\n",
      "Australia    0.067113\n",
      "Name: proportion, dtype: float64\n",
      "\n",
      "----------------------------------------\n",
      "Há 11 valores únicos\n",
      "city\n",
      "Unknown City    0.932436\n",
      "Dallas          0.007182\n",
      "San Diego       0.007182\n",
      "Philadelphia    0.006965\n",
      "Houston         0.006882\n",
      "Phoenix         0.006748\n",
      "San Antonio     0.006715\n",
      "San Jose        0.006715\n",
      "Chicago         0.006581\n",
      "New York        0.006330\n",
      "Los Angeles     0.006264\n",
      "Name: proportion, dtype: float64\n",
      "\n",
      "----------------------------------------\n",
      "Há 2 valores únicos\n",
      "city_size\n",
      "medium    0.973943\n",
      "large     0.026057\n",
      "Name: proportion, dtype: float64\n",
      "\n",
      "----------------------------------------\n",
      "Há 5 valores únicos\n",
      "card_type\n",
      "Basic Debit        0.206735\n",
      "Premium Debit      0.205031\n",
      "Platinum Credit    0.204229\n",
      "Gold Credit        0.196830\n",
      "Basic Credit       0.187175\n",
      "Name: proportion, dtype: float64\n",
      "\n",
      "----------------------------------------\n",
      "Há 9 valores únicos\n",
      "device\n",
      "Edge               0.160166\n",
      "iOS App            0.153853\n",
      "Chrome             0.151915\n",
      "Safari             0.150479\n",
      "Android App        0.150094\n",
      "Firefox            0.147656\n",
      "NFC Payment        0.029130\n",
      "Chip Reader        0.028529\n",
      "Magnetic Stripe    0.028178\n",
      "Name: proportion, dtype: float64\n",
      "\n",
      "----------------------------------------\n",
      "Há 3 valores únicos\n",
      "channel\n",
      "web       0.610216\n",
      "mobile    0.303947\n",
      "pos       0.085837\n",
      "Name: proportion, dtype: float64\n",
      "\n",
      "----------------------------------------\n",
      "Há 21517 valores únicos\n",
      "device_fingerprint\n",
      "f41fd0e07f7dcbf33e553c4d5c3e87cb    0.000367\n",
      "9d4fab7d1631601a480f08b7876f0110    0.000351\n",
      "30d9029c7fd056ffb7c77cdc22a00d16    0.000351\n",
      "9e482df870c7e1f8f687998a8cc6403a    0.000351\n",
      "46c8a294d897a3a143c304ec31cb9658    0.000334\n",
      "                                      ...   \n",
      "6336d7ded64dd1908125ab172fd5e60e    0.000017\n",
      "d1b88f82b97bb350a0a768aef4b71056    0.000017\n",
      "b0e3047bc11dab27a0e46bc99488e597    0.000017\n",
      "285165b52e6122808b6df8b54b68bd0a    0.000017\n",
      "6a61cc06e4f38dbd416bb7678cd7e5f9    0.000017\n",
      "Name: proportion, Length: 21517, dtype: float64\n",
      "\n",
      "----------------------------------------\n",
      "Há 59869 valores únicos\n",
      "ip_address\n",
      "220.102.112.11     0.000017\n",
      "60.126.165.145     0.000017\n",
      "212.149.233.183    0.000017\n",
      "192.21.107.73      0.000017\n",
      "6.170.44.239       0.000017\n",
      "                     ...   \n",
      "208.208.123.155    0.000017\n",
      "2.189.16.94        0.000017\n",
      "81.204.152.17      0.000017\n",
      "27.120.234.224     0.000017\n",
      "209.246.198.255    0.000017\n",
      "Name: proportion, Length: 59869, dtype: float64\n",
      "\n",
      "----------------------------------------\n",
      "Há 59869 valores únicos\n",
      "velocity_last_hour\n",
      "{'num_transactions': 321, 'total_amount': 16456935.190370671, 'unique_merchants': 92, 'unique_countries': 10, 'max_single_amount': 967368.420029456}      0.000017\n",
      "{'num_transactions': 107, 'total_amount': 6952202.72374485, 'unique_merchants': 61, 'unique_countries': 11, 'max_single_amount': 4859604.156043799}       0.000017\n",
      "{'num_transactions': 337, 'total_amount': 6422397.787046174, 'unique_merchants': 97, 'unique_countries': 12, 'max_single_amount': 838363.0412243793}      0.000017\n",
      "{'num_transactions': 425, 'total_amount': 21597821.919785578, 'unique_merchants': 102, 'unique_countries': 12, 'max_single_amount': 5907000.678748497}    0.000017\n",
      "{'num_transactions': 113, 'total_amount': 2427538.0981337773, 'unique_merchants': 63, 'unique_countries': 11, 'max_single_amount': 615457.747331041}      0.000017\n",
      "                                                                                                                                                            ...   \n",
      "{'num_transactions': 54, 'total_amount': 1630337.6147643928, 'unique_merchants': 41, 'unique_countries': 10, 'max_single_amount': 810702.1120324709}      0.000017\n",
      "{'num_transactions': 1124, 'total_amount': 39399205.62438667, 'unique_merchants': 105, 'unique_countries': 12, 'max_single_amount': 5775700.767612643}    0.000017\n",
      "{'num_transactions': 241, 'total_amount': 4999645.321453569, 'unique_merchants': 93, 'unique_countries': 12, 'max_single_amount': 1630772.4928255256}     0.000017\n",
      "{'num_transactions': 403, 'total_amount': 12860844.82969772, 'unique_merchants': 99, 'unique_countries': 12, 'max_single_amount': 2608475.554520332}      0.000017\n",
      "{'num_transactions': 371, 'total_amount': 13675996.124047773, 'unique_merchants': 99, 'unique_countries': 12, 'max_single_amount': 2962220.6499397457}    0.000017\n",
      "Name: proportion, Length: 59869, dtype: float64\n",
      "\n"
     ]
    }
   ],
   "source": [
    "for feature in categorical_features:\n",
    "    print('-'*40)\n",
    "    print(f'Há {X_train[feature].nunique()} valores únicos')\n",
    "    print(X_train[feature].value_counts(normalize=True))\n",
    "    print()"
   ]
  },
  {
   "cell_type": "markdown",
   "id": "d5f78789",
   "metadata": {},
   "source": [
    "A variável merchant possui muitos valores únicos, podendo atrapalhar o modelo. Sendo assim os 20 mais frequentes continuarão com o valor original e os demais serão agrupados para o valor Outros."
   ]
  },
  {
   "cell_type": "code",
   "execution_count": 7,
   "id": "86e602be",
   "metadata": {},
   "outputs": [],
   "source": [
    "top_merchants = X_train['merchant'].value_counts().nlargest(20).index\n",
    "X_train['merchant'] = X_train['merchant'].apply(lambda x: x if x in top_merchants else 'Outros')"
   ]
  },
  {
   "cell_type": "markdown",
   "id": "a691333f",
   "metadata": {},
   "source": [
    "### Etapa 5: Feature Engineering, Data Cleaning e Preprocessing\n",
    "\n",
    "Feature Engineering: Conforme realizado no notebook eda, as features foram criadas com o intuito de enriquecer os dados  \n",
    "e o modelo ao qual iremos treinar.\n",
    "\n",
    " - Média e desvio padrão por cliente: Calculo a média e o desvio padrão do valor das transações por cliente, criando a variável high_value_transaction, que identifica se a transação está significativamente acima da média individual (mais de 2 desvios).\n",
    "\n",
    " - Outliers: Uso o método do IQR para detectar outliers na distribuição de valores outlier_transaction.\n",
    "\n",
    " - Mudança de país: Detecto se houve alteração no país da transação em relação à transação anterior do mesmo cliente (country_change), o que pode indicar comportamento incomum.\n",
    "\n",
    " - Transações em horários suspeitos: Crio a variável hour_warning para marcar transações entre 0h e 6h, horários fora do padrão de atividade comercial.\n",
    "\n",
    "Data Cleaning: Conforme feito acima, também com base no notebook de eda, os valors nulos também foram removidos, pois  \n",
    "se trata de 4 valores de timestamp, não sendo possivel atribuir valores confiáveis. Verificado também valores duplicados, possiveis inconsistencias e outliers."
   ]
  },
  {
   "cell_type": "code",
   "execution_count": 8,
   "id": "d2664a2f",
   "metadata": {},
   "outputs": [],
   "source": [
    "X_train['avg_spent'] = X_train.groupby('customer_id')['amount'].transform('mean')\n",
    "X_train['std_spent'] = X_train.groupby('customer_id')['amount'].transform('std').fillna(0)\n",
    "X_train['high_value_transaction'] = X_train.apply(lambda x: 1 if x['amount'] > x['avg_spent'] + 2*x['std_spent'] else 0, axis=1)\n",
    "\n",
    "q1 = X_train['amount'].quantile(0.25)\n",
    "q3 = X_train['amount'].quantile(0.75)\n",
    "iqr = q3 - q1\n",
    "lower_bound = q1 - 1.5 * iqr\n",
    "upper_bound = q3 + 1.5 * iqr\n",
    "X_train['outlier_transaction'] = X_train['amount'].apply(lambda x: 1 if x < lower_bound or x > upper_bound else 0)\n",
    "\n",
    "X_train['prev_country'] = X_train.groupby('customer_id')['country'].shift(1)\n",
    "X_train['country_change'] = np.where(X_train['prev_country'] != X_train['country'], 1, 0)\n",
    "X_train['hour_warning'] = np.where((X_train['transaction_hour'] < 6) | (X_train['transaction_hour'] > 23), 1, 0)\n",
    "\n",
    "X_train['time_since_last_transaction'] = X_train.groupby('customer_id')['timestamp'].diff().dt.total_seconds().fillna(0)"
   ]
  },
  {
   "cell_type": "markdown",
   "id": "ce4dd77d",
   "metadata": {},
   "source": [
    "Eliminando as variáveis que possuem uma cardinalidade elevada e as que foram utilizadas para criar outras variáveis e    transformando as variáveis high_risk_merchant e weekend_transaction em 0 e 1, pois estão como False e True."
   ]
  },
  {
   "cell_type": "code",
   "execution_count": 9,
   "id": "605a20f4",
   "metadata": {},
   "outputs": [],
   "source": [
    "X_train = X_train.drop(columns=['prev_country', 'transaction_id','customer_id','card_number','ip_address','velocity_last_hour', 'device_fingerprint','city_size'], axis=1)\n",
    "X_train['high_risk_merchant'] = X_train['high_risk_merchant'].astype(int)\n",
    "X_train['weekend_transaction'] = X_train['weekend_transaction'].astype(int)"
   ]
  },
  {
   "cell_type": "markdown",
   "id": "cd93effb",
   "metadata": {},
   "source": [
    "A alteração da proporção é muito grande quando combinada com a variável hour_warning. Sendo assim, irei gerar uma nova variável weekend_and_hour_warning para enriquecer os dados, pois a combinação de final de semana com as horas de risco que são na madrugada aumenta muito a chance da transação ser fraudulenta  \n",
    "\n",
    "A alteração da proporção é muito grande quando combinada com a variável distance_from_home. Sendo assim, irei gerar uma nova variável risk_and_distance para enriquecer os dados."
   ]
  },
  {
   "cell_type": "code",
   "execution_count": 10,
   "id": "9aec234d",
   "metadata": {},
   "outputs": [],
   "source": [
    "X_train['weekend_and_hour_warning'] = ((X_train['weekend_transaction'] == 1) & (X_train['hour_warning'] == 1)).astype(int)\n",
    "X_train['risk_and_distance'] = ((X_train['high_risk_merchant'] == 1) & (X_train['distance_from_home'] == 1)).astype(int)"
   ]
  },
  {
   "cell_type": "markdown",
   "id": "f4440864",
   "metadata": {},
   "source": [
    "Verificando se card_type possui uma ordem."
   ]
  },
  {
   "cell_type": "code",
   "execution_count": 11,
   "id": "ca5b9743",
   "metadata": {},
   "outputs": [
    {
     "data": {
      "text/plain": [
       "card_type\n",
       "Basic Debit        12377\n",
       "Premium Debit      12275\n",
       "Platinum Credit    12227\n",
       "Gold Credit        11784\n",
       "Basic Credit       11206\n",
       "Name: count, dtype: int64"
      ]
     },
     "execution_count": 11,
     "metadata": {},
     "output_type": "execute_result"
    }
   ],
   "source": [
    "X_train['card_type'].value_counts()"
   ]
  },
  {
   "cell_type": "markdown",
   "id": "2c3cb375",
   "metadata": {},
   "source": [
    "Sim, aparentemente card_type possui uma ordem, sendo assim, essa ordem será levada em consideração no preprocessamento"
   ]
  },
  {
   "cell_type": "markdown",
   "id": "4f1a68a4",
   "metadata": {},
   "source": [
    "Iniciando o preprocessamento aplicando as técnicas para cada tipo de dado.\n",
    " - TargetEncoder para variáveis categóricas com alta cardinalidade para evitar explosão dimensional\n",
    " - OrdinalEncoder para a coluna card_type, pois conforme verificado acima, a variável possui uma ordem de importância\n",
    " - OneHotEncoder para transformação das demais variáveis categóricas\n",
    " - SimpleImputer apesar não existir valores nulos nessas variáveis\n",
    " - StandardScaler para deixar na mesma escala para não ter pesos diferentes (ambos processos para variáveis numéricas são para possíveis variáveis adicionais, pois apenas a coluna amount no momento é numérica)"
   ]
  },
  {
   "cell_type": "code",
   "execution_count": 12,
   "id": "875e67c2",
   "metadata": {},
   "outputs": [],
   "source": [
    "target_encoding_features = ['merchant', 'merchant_category', 'merchant_type', 'city', 'country', 'device', 'channel']\n",
    "ordinal_encoding_features = ['card_type']\n",
    "one_hot_features = ['currency']\n",
    "numeric_features = ['amount']\n",
    "\n",
    "# Pré-processamento\n",
    "preprocessor = ColumnTransformer(transformers=[\n",
    "    ('target_enc', TargetEncoder(), target_encoding_features),\n",
    "    ('ordinal_enc', OrdinalEncoder(cols=ordinal_encoding_features, mapping=[\n",
    "        {'col': 'card_type', 'mapping': {\n",
    "            'Basic Debit': 0, \n",
    "            'Basic Credit': 1, \n",
    "            'Premium Debit': 2, \n",
    "            'Gold Credit': 3, \n",
    "            'Platinum Credit': 4}}\n",
    "    ]), ordinal_encoding_features),\n",
    "    ('onehot', OneHotEncoder(handle_unknown='ignore'), one_hot_features),\n",
    "    ('num', ImbPipeline(steps=[\n",
    "        ('imputer', SimpleImputer(strategy='median')),\n",
    "        ('scaler', StandardScaler())\n",
    "    ]), numeric_features)\n",
    "])"
   ]
  },
  {
   "cell_type": "markdown",
   "id": "8e208bd0",
   "metadata": {},
   "source": [
    "Definindo a função para facilitar o loop treinar diversos modelos e aplicar o preprocessamento."
   ]
  },
  {
   "cell_type": "code",
   "execution_count": 13,
   "id": "a60b808a",
   "metadata": {},
   "outputs": [],
   "source": [
    "def build_pipeline(model):\n",
    "    return ImbPipeline(steps=[\n",
    "        ('preprocessor', preprocessor),\n",
    "        ('smote', SMOTE(random_state=42)),\n",
    "        # ('pca', PCA(n_components=0.95)), Testado, porém com acurácia menor.\n",
    "        ('classifier', model)\n",
    "    ])"
   ]
  },
  {
   "cell_type": "markdown",
   "id": "0f2f66b8",
   "metadata": {},
   "source": [
    "### 6. Modelagem e tuning\n",
    "\n",
    "Com os dados prontos, começamos a modelagem.\n",
    "\n",
    "Vamos testar diferentes algoritmos de machine learning e comparar suas performances.\n",
    "Cada modelo pode ter vantagens diferentes: alguns são melhores em precisão, outros em recall, alguns mais rápidos, outros mais interpretáveis.\n",
    "\n",
    "Também faremos:\n",
    " - Ajuste de hiperparâmetros (GridSearch);\n",
    " - Testes de seleção de atributos;\n",
    " - Validação cruzada para evitar overfitting.\n",
    "\n",
    "Nosso foco será encontrar um modelo equilibrado, que maximize a detecção de fraudes sem penalizar transações legítimas."
   ]
  },
  {
   "cell_type": "markdown",
   "id": "6982d646",
   "metadata": {},
   "source": [
    "Definindo os modelos que serão treinados juntamente com seus hiperparametros"
   ]
  },
  {
   "cell_type": "code",
   "execution_count": 14,
   "id": "f429a380",
   "metadata": {},
   "outputs": [],
   "source": [
    "models_and_params = {\n",
    "    'Decision Tree': (\n",
    "        DecisionTreeClassifier(class_weight='balanced'),\n",
    "        {\n",
    "            'classifier__criterion': ['gini','entropy'],\n",
    "            'classifier__splitter': ['best','random'],\n",
    "            'classifier__min_samples_split': [2,5,10],\n",
    "            'classifier__min_samples_leaf': [1,5,10]\n",
    "        }\n",
    "    ),\n",
    "    'Random Forest': (\n",
    "        RandomForestClassifier(class_weight='balanced'),\n",
    "        {\n",
    "            'classifier__criterion': ['gini','entropy'],\n",
    "            'classifier__n_estimators': [10,40,100,150],\n",
    "            'classifier__min_samples_split': [2,5,10],\n",
    "            'classifier__min_samples_leaf': [1,5,10]\n",
    "        }\n",
    "    ),\n",
    "    'Logistic Regression': (\n",
    "        LogisticRegression(max_iter=1000, class_weight='balanced'),\n",
    "        {\n",
    "            'classifier__tol': [0.0001,0.00001,0.000001],\n",
    "            'classifier__C': [1.0, 1.5, 2.0],\n",
    "            'classifier__solver': ['lbfgs','sag','saga']\n",
    "        }\n",
    "    ),\n",
    "    'KNN': (\n",
    "        KNeighborsClassifier(),\n",
    "        {\n",
    "            'classifier__n_neighbors': [3,5,10,20],\n",
    "            'classifier__p': [1,2]\n",
    "        }\n",
    "    ),\n",
    "    'Neural Net': (\n",
    "        MLPClassifier(max_iter=3000),\n",
    "        {\n",
    "            'classifier__activation': ['relu'],\n",
    "            'classifier__solver': ['adam'],\n",
    "            'classifier__batch_size': [10,56],\n",
    "            'classifier__max_iter': [3000],\n",
    "            'classifier__tol': [0.000001],\n",
    "            'classifier__hidden_layer_sizes': [(5,5),(10,10)]\n",
    "        }\n",
    "    ),\n",
    "    'XGBoost': (\n",
    "        XGBClassifier(\n",
    "            scale_pos_weight=(len(y_train[y_train == 0]) / len(y_train[y_train == 1])), \n",
    "            use_label_encoder=False,\n",
    "            eval_metric='logloss',\n",
    "            random_state=42\n",
    "        ),\n",
    "        {\n",
    "            'classifier__max_depth': [3, 6],\n",
    "            'classifier__n_estimators': [100],\n",
    "            'classifier__learning_rate': [0.1, 0.01]\n",
    "        }\n",
    "    ),\n",
    "    'LightGBM': (\n",
    "        LGBMClassifier(\n",
    "            class_weight='balanced',\n",
    "            random_state=42\n",
    "        ),\n",
    "        {\n",
    "            'classifier__num_leaves': [31, 50],\n",
    "            'classifier__max_depth': [5, 10],\n",
    "            'classifier__learning_rate': [0.1, 0.01]\n",
    "        }\n",
    "    )\n",
    "}"
   ]
  },
  {
   "cell_type": "markdown",
   "id": "f00cc024",
   "metadata": {},
   "source": [
    "Realizando o treinamento dos modelos definidos acima para determinar a partir da acurácia qual modelo seguiremos com os demais testes e métricas até encontrarmos o modelo que melhor nos atende"
   ]
  },
  {
   "cell_type": "code",
   "execution_count": 15,
   "id": "a197e8da",
   "metadata": {},
   "outputs": [
    {
     "name": "stdout",
     "output_type": "stream",
     "text": [
      "Treinando modelo: Decision Tree\n",
      "Decision Tree - Acurácia no treino: 1.0000\n",
      "------------------------------------------------------------\n",
      "Treinando modelo: Random Forest\n",
      "Random Forest - Acurácia no treino: 1.0000\n",
      "------------------------------------------------------------\n",
      "Treinando modelo: Logistic Regression\n",
      "Logistic Regression - Acurácia no treino: 0.7434\n",
      "------------------------------------------------------------\n",
      "Treinando modelo: KNN\n",
      "KNN - Acurácia no treino: 0.9522\n",
      "------------------------------------------------------------\n",
      "Treinando modelo: Neural Net\n",
      "Neural Net - Acurácia no treino: 0.9219\n",
      "------------------------------------------------------------\n",
      "Treinando modelo: XGBoost\n"
     ]
    },
    {
     "name": "stderr",
     "output_type": "stream",
     "text": [
      "c:\\Users\\renan\\AppData\\Local\\Programs\\Python\\Python313\\Lib\\site-packages\\xgboost\\training.py:183: UserWarning: [14:01:33] WARNING: C:\\actions-runner\\_work\\xgboost\\xgboost\\src\\learner.cc:738: \n",
      "Parameters: { \"use_label_encoder\" } are not used.\n",
      "\n",
      "  bst.update(dtrain, iteration=i, fobj=obj)\n"
     ]
    },
    {
     "name": "stdout",
     "output_type": "stream",
     "text": [
      "XGBoost - Acurácia no treino: 0.9579\n",
      "------------------------------------------------------------\n",
      "Treinando modelo: LightGBM\n",
      "[LightGBM] [Info] Number of positive: 47912, number of negative: 47912\n",
      "[LightGBM] [Info] Auto-choosing row-wise multi-threading, the overhead of testing was 0.005030 seconds.\n",
      "You can set `force_row_wise=true` to remove the overhead.\n",
      "And if memory is not enough, you can set `force_col_wise=true`.\n",
      "[LightGBM] [Info] Total Bins 2139\n",
      "[LightGBM] [Info] Number of data points in the train set: 95824, number of used features: 20\n",
      "[LightGBM] [Info] [binary:BoostFromScore]: pavg=0.500000 -> initscore=0.000000\n"
     ]
    },
    {
     "name": "stderr",
     "output_type": "stream",
     "text": [
      "c:\\Users\\renan\\AppData\\Local\\Programs\\Python\\Python313\\Lib\\site-packages\\sklearn\\utils\\validation.py:2739: UserWarning: X does not have valid feature names, but LGBMClassifier was fitted with feature names\n",
      "  warnings.warn(\n"
     ]
    },
    {
     "name": "stdout",
     "output_type": "stream",
     "text": [
      "LightGBM - Acurácia no treino: 0.9656\n",
      "------------------------------------------------------------\n"
     ]
    }
   ],
   "source": [
    "for name, (model, params) in models_and_params.items():\n",
    "    print(f\"Treinando modelo: {name}\")\n",
    "    pipeline = build_pipeline(model)\n",
    "    \n",
    "    pipeline.fit(X_train, y_train)\n",
    "    \n",
    "    score = pipeline.score(X_train, y_train)\n",
    "    \n",
    "    print(f\"{name} - Acurácia no treino: {score:.4f}\")\n",
    "    print('-'*60)"
   ]
  },
  {
   "cell_type": "markdown",
   "id": "5926b436",
   "metadata": {},
   "source": [
    "Como os modelos Decision Tree e Random Forest tiveram a mesma acurácia. Farei o treinamento de ambos para conseguir escolher o melhor."
   ]
  },
  {
   "cell_type": "markdown",
   "id": "060b58bc",
   "metadata": {},
   "source": [
    "Setando novamente os hiperparametros para o preprocessor, porém apenas dos dois modelos com melhor acurácia"
   ]
  },
  {
   "cell_type": "code",
   "execution_count": 16,
   "id": "59c3df8a",
   "metadata": {},
   "outputs": [],
   "source": [
    "models_and_params = {\n",
    "    'Decision Tree': (\n",
    "        DecisionTreeClassifier(class_weight='balanced'),\n",
    "        {\n",
    "            'classifier__criterion': ['gini','entropy'],\n",
    "            'classifier__splitter': ['best','random'],\n",
    "            'classifier__min_samples_split': [2,5,10],\n",
    "            'classifier__min_samples_leaf': [1,5,10]\n",
    "        }\n",
    "    ),\n",
    "    'Random Forest': (\n",
    "        RandomForestClassifier(class_weight='balanced'),\n",
    "        {\n",
    "            'classifier__criterion': ['gini','entropy'],\n",
    "            'classifier__n_estimators': [10,40,100,150],\n",
    "            'classifier__min_samples_split': [2,5,10],\n",
    "            'classifier__min_samples_leaf': [1,5,10]\n",
    "        }\n",
    "    ),\n",
    "}"
   ]
  },
  {
   "cell_type": "code",
   "execution_count": 17,
   "id": "0b0dfd78",
   "metadata": {},
   "outputs": [
    {
     "name": "stdout",
     "output_type": "stream",
     "text": [
      "Treinando modelo: Decision Tree\n",
      "Melhor acurácia: 0.9463\n",
      "Melhores parâmetros: {'classifier__criterion': 'gini', 'classifier__min_samples_leaf': 1, 'classifier__min_samples_split': 5, 'classifier__splitter': 'random'}\n",
      "\n",
      "Treinando modelo: Random Forest\n",
      "Melhor acurácia: 0.9617\n",
      "Melhores parâmetros: {'classifier__criterion': 'entropy', 'classifier__min_samples_leaf': 1, 'classifier__min_samples_split': 10, 'classifier__n_estimators': 150}\n",
      "\n"
     ]
    }
   ],
   "source": [
    "results = {}\n",
    "\n",
    "for name, (model, params) in models_and_params.items():\n",
    "    print(f\"Treinando modelo: {name}\")\n",
    "    pipeline = build_pipeline(model)\n",
    "    \n",
    "    grid = GridSearchCV(pipeline, param_grid=params, cv=5, scoring='accuracy', n_jobs=-1)\n",
    "    grid.fit(X_train, y_train)\n",
    "    \n",
    "    best_model = grid.best_estimator_\n",
    "    score = cross_val_score(best_model, X_train, y_train, cv=10).mean()\n",
    "    \n",
    "    results[name] = {\n",
    "        'best_score': grid.best_score_,\n",
    "        'cross_val_score': score,\n",
    "        'best_params': grid.best_params_,\n",
    "        'best_estimator_': best_model\n",
    "    }\n",
    "    \n",
    "    print(f\"Melhor acurácia: {score:.4f}\")\n",
    "    print(f\"Melhores parâmetros: {grid.best_params_}\\n\")"
   ]
  },
  {
   "cell_type": "markdown",
   "id": "eade9541",
   "metadata": {},
   "source": [
    "Como a acurácia continua muito parecida, irei gerar as métricas de ambos para conseguir diferenciar qual será o modelo que seguirá."
   ]
  },
  {
   "cell_type": "code",
   "execution_count": 18,
   "id": "67fa9e00",
   "metadata": {},
   "outputs": [
    {
     "name": "stdout",
     "output_type": "stream",
     "text": [
      "               best_score  cross_val_score  \\\n",
      "Random Forest    0.960213         0.961666   \n",
      "Decision Tree    0.945832         0.946300   \n",
      "\n",
      "                                                     best_params  \\\n",
      "Random Forest  {'classifier__criterion': 'entropy', 'classifi...   \n",
      "Decision Tree  {'classifier__criterion': 'gini', 'classifier_...   \n",
      "\n",
      "                                                 best_estimator_  \n",
      "Random Forest  (ColumnTransformer(transformers=[('target_enc'...  \n",
      "Decision Tree  (ColumnTransformer(transformers=[('target_enc'...  \n"
     ]
    }
   ],
   "source": [
    "result_df = pd.DataFrame.from_dict(results, orient='index')\n",
    "result_df = result_df.sort_values(by='cross_val_score', ascending=False)\n",
    "print(result_df)"
   ]
  },
  {
   "cell_type": "code",
   "execution_count": 19,
   "id": "e0e12f70",
   "metadata": {},
   "outputs": [
    {
     "name": "stdout",
     "output_type": "stream",
     "text": [
      "\n",
      "Avaliando modelo: Decision Tree\n",
      "Classification Report:\n",
      "              precision    recall  f1-score   support\n",
      "\n",
      "       False       0.96      0.97      0.97     47912\n",
      "        True       0.88      0.84      0.86     11957\n",
      "\n",
      "    accuracy                           0.95     59869\n",
      "   macro avg       0.92      0.90      0.91     59869\n",
      "weighted avg       0.94      0.95      0.94     59869\n",
      "\n"
     ]
    },
    {
     "data": {
      "image/png": "[encoded data removed]",
      "text/plain": [
       "<Figure size 600x400 with 2 Axes>"
      ]
     },
     "metadata": {},
     "output_type": "display_data"
    },
    {
     "data": {
      "image/png": "[encoded data removed]",
      "text/plain": [
       "<Figure size 600x400 with 1 Axes>"
      ]
     },
     "metadata": {},
     "output_type": "display_data"
    },
    {
     "data": {
      "image/png": "[encoded data removed]",
      "text/plain": [
       "<Figure size 600x400 with 1 Axes>"
      ]
     },
     "metadata": {},
     "output_type": "display_data"
    },
    {
     "name": "stderr",
     "output_type": "stream",
     "text": [
      "c:\\Users\\renan\\Documents\\Python\\VSCode\\Pratica DS\\src\\eda_utils.py:145: UserWarning: Ignoring `palette` because no `hue` variable has been assigned.\n",
      "  sns.histplot(erro, bins=2, palette=palette)\n"
     ]
    },
    {
     "data": {
      "image/png": "[encoded data removed]",
      "text/plain": [
       "<Figure size 600x400 with 1 Axes>"
      ]
     },
     "metadata": {},
     "output_type": "display_data"
    },
    {
     "name": "stderr",
     "output_type": "stream",
     "text": [
      "c:\\Users\\renan\\Documents\\Python\\VSCode\\Pratica DS\\src\\eda_utils.py:179: FutureWarning: \n",
      "\n",
      "Passing `palette` without assigning `hue` is deprecated and will be removed in v0.14.0. Assign the `y` variable to `hue` and set `legend=False` for the same effect.\n",
      "\n",
      "  sns.barplot(x=feat_imp.values, y=feat_imp.index, palette=palette)\n",
      "c:\\Users\\renan\\Documents\\Python\\VSCode\\Pratica DS\\src\\eda_utils.py:179: UserWarning: \n",
      "The palette list has fewer values (6) than needed (20) and will cycle, which may produce an uninterpretable plot.\n",
      "  sns.barplot(x=feat_imp.values, y=feat_imp.index, palette=palette)\n"
     ]
    },
    {
     "data": {
      "image/png": "[encoded data removed]",
      "text/plain": [
       "<Figure size 800x500 with 1 Axes>"
      ]
     },
     "metadata": {},
     "output_type": "display_data"
    }
   ],
   "source": [
    "eda_utils.avaliar_modelo('Decision Tree', results, X_train, y_train)"
   ]
  },
  {
   "cell_type": "code",
   "execution_count": 20,
   "id": "c1c22ea7",
   "metadata": {},
   "outputs": [
    {
     "name": "stdout",
     "output_type": "stream",
     "text": [
      "\n",
      "Avaliando modelo: Random Forest\n",
      "Classification Report:\n",
      "              precision    recall  f1-score   support\n",
      "\n",
      "       False       0.96      0.99      0.98     47912\n",
      "        True       0.96      0.83      0.89     11957\n",
      "\n",
      "    accuracy                           0.96     59869\n",
      "   macro avg       0.96      0.91      0.93     59869\n",
      "weighted avg       0.96      0.96      0.96     59869\n",
      "\n"
     ]
    },
    {
     "data": {
      "image/png": "[encoded data removed]",
      "text/plain": [
       "<Figure size 600x400 with 2 Axes>"
      ]
     },
     "metadata": {},
     "output_type": "display_data"
    },
    {
     "data": {
      "image/png": "[encoded data removed]",
      "text/plain": [
       "<Figure size 600x400 with 1 Axes>"
      ]
     },
     "metadata": {},
     "output_type": "display_data"
    },
    {
     "data": {
      "image/png": "[encoded data removed]",
      "text/plain": [
       "<Figure size 600x400 with 1 Axes>"
      ]
     },
     "metadata": {},
     "output_type": "display_data"
    },
    {
     "name": "stderr",
     "output_type": "stream",
     "text": [
      "c:\\Users\\renan\\Documents\\Python\\VSCode\\Pratica DS\\src\\eda_utils.py:145: UserWarning: Ignoring `palette` because no `hue` variable has been assigned.\n",
      "  sns.histplot(erro, bins=2, palette=palette)\n"
     ]
    },
    {
     "data": {
      "image/png": "[encoded data removed]",
      "text/plain": [
       "<Figure size 600x400 with 1 Axes>"
      ]
     },
     "metadata": {},
     "output_type": "display_data"
    },
    {
     "name": "stderr",
     "output_type": "stream",
     "text": [
      "c:\\Users\\renan\\Documents\\Python\\VSCode\\Pratica DS\\src\\eda_utils.py:179: FutureWarning: \n",
      "\n",
      "Passing `palette` without assigning `hue` is deprecated and will be removed in v0.14.0. Assign the `y` variable to `hue` and set `legend=False` for the same effect.\n",
      "\n",
      "  sns.barplot(x=feat_imp.values, y=feat_imp.index, palette=palette)\n",
      "c:\\Users\\renan\\Documents\\Python\\VSCode\\Pratica DS\\src\\eda_utils.py:179: UserWarning: \n",
      "The palette list has fewer values (6) than needed (20) and will cycle, which may produce an uninterpretable plot.\n",
      "  sns.barplot(x=feat_imp.values, y=feat_imp.index, palette=palette)\n"
     ]
    },
    {
     "data": {
      "image/png": "[encoded data removed]",
      "text/plain": [
       "<Figure size 800x500 with 1 Axes>"
      ]
     },
     "metadata": {},
     "output_type": "display_data"
    }
   ],
   "source": [
    "eda_utils.avaliar_modelo('Random Forest', results, X_train, y_train)"
   ]
  },
  {
   "cell_type": "markdown",
   "id": "39c714ed",
   "metadata": {},
   "source": [
    "| Métrica             | Decision Tree | Random Forest  |\n",
    "|---------------------|---------------|----------------|\n",
    "| Acurácia            | 0.95          | 0.96           |\n",
    "| Recall (True)       | 0.83          | 0.82           |\n",
    "| Recall (False)      | 0.97          | 0.99           |\n",
    "| Precision (True)    | 0.89          | 0.97           |\n",
    "| Precision (False)   | 0.96          | 0.96           |\n",
    "| F1-Score (True)     | 0.86          | 0.89           |\n",
    "| F1-Score (False)    | 0.97          | 0.97           |\n",
    "| ROC                 | 0.95          | 0.98           |\n",
    "| PR                  | 0.92          | 0.95           |\n",
    "\n",
    "Apesar do modelo Random Forest ter uma performace de 0,01% inferior no recall com relação ao modelo Decision Tree, que é uma métrica muito importante, ainda mais se tratando da categoria True, iremos seguir com ele, pois as demais métricas são superiores e mais equibradas."
   ]
  },
  {
   "cell_type": "markdown",
   "id": "9f94b330",
   "metadata": {},
   "source": [
    "### Etapa 7 - Avaliação final do modelo\n",
    "\n",
    "Agora testamos o modelo treinado no conjunto de teste, dados que ele nunca viu.  \n",
    "\n",
    "Avaliaremos:\n",
    "- Precisão, Recall, F1-Score (essencial para fraudes, já que os dados são desbalanceados);\n",
    "- AUC-ROC para verificar separabilidade entre classes;\n",
    "- Matriz de confusão para analisar os erros mais comuns."
   ]
  },
  {
   "cell_type": "code",
   "execution_count": 21,
   "id": "6f271ff1",
   "metadata": {},
   "outputs": [
    {
     "name": "stdout",
     "output_type": "stream",
     "text": [
      "\n",
      "Top Features Selecionadas:\n",
      "['num__amount', 'target_enc__device', 'target_enc__channel', 'target_enc__country', 'target_enc__merchant_type', 'target_enc__merchant_category', 'ordinal_enc__card_type', 'target_enc__merchant', 'onehot__currency_6', 'onehot__currency_10']\n"
     ]
    }
   ],
   "source": [
    "pipeline = results['Random Forest']['best_estimator_']\n",
    "\n",
    "preprocessor = pipeline.named_steps['preprocessor']\n",
    "classifier = pipeline.named_steps['classifier']\n",
    "\n",
    "importances = classifier.feature_importances_\n",
    "feature_names = preprocessor.get_feature_names_out()\n",
    "\n",
    "feat_imp = pd.Series(importances, index=feature_names).sort_values(ascending=False)\n",
    "top_features = feat_imp.head(10).index.tolist() \n",
    "\n",
    "print(\"\\nTop Features Selecionadas:\")\n",
    "print(top_features)"
   ]
  },
  {
   "cell_type": "markdown",
   "id": "7a4b43d6",
   "metadata": {},
   "source": [
    "Utilizamos feature_importances da Random Forest para identificar as 10 variáveis mais relevantes na previsão. Essa técnica ajuda a reduzir a dimensionalidade e concentrar a modelagem nas variáveis com maior poder preditivo, além de facilitar a interpretação.\n"
   ]
  },
  {
   "cell_type": "code",
   "execution_count": 22,
   "id": "0f023f66",
   "metadata": {},
   "outputs": [],
   "source": [
    "top_merchants = X_test['merchant'].value_counts().nlargest(20).index\n",
    "X_test['merchant'] = X_test['merchant'].apply(lambda x: x if x in top_merchants else 'Outros')\n",
    "\n",
    "X_test['avg_spent'] = X_test.groupby('customer_id')['amount'].transform('mean')\n",
    "X_test['std_spent'] = X_test.groupby('customer_id')['amount'].transform('std').fillna(0)\n",
    "X_test['high_value_transaction'] = X_test.apply(lambda x: 1 if x['amount'] > x['avg_spent'] + 2*x['std_spent'] else 0, axis=1)\n",
    "\n",
    "q1 = X_test['amount'].quantile(0.25)\n",
    "q3 = X_test['amount'].quantile(0.75)\n",
    "iqr = q3 - q1\n",
    "lower_bound = q1 - 1.5 * iqr\n",
    "upper_bound = q3 + 1.5 * iqr\n",
    "X_test['outlier_transaction'] = X_test['amount'].apply(lambda x: 1 if x < lower_bound or x > upper_bound else 0)\n",
    "\n",
    "X_test['prev_country'] = X_test.groupby('customer_id')['country'].shift(1)\n",
    "X_test['country_change'] = np.where(X_test['prev_country'] != X_test['country'], 1, 0)\n",
    "X_test['hour_warning'] = np.where((X_test['transaction_hour'] < 6) | (X_test['transaction_hour'] > 23), 1, 0)\n",
    "\n",
    "X_test['time_since_last_transaction'] = X_test.groupby('customer_id')['timestamp'].diff().dt.total_seconds().fillna(0)\n",
    "\n",
    "X_test = X_test.drop(columns=['prev_country', 'transaction_id','customer_id','card_number','ip_address','velocity_last_hour', 'device_fingerprint','city_size'], axis=1)\n",
    "X_test['high_risk_merchant'] = X_test['high_risk_merchant'].astype(int)\n",
    "X_test['weekend_transaction'] = X_test['weekend_transaction'].astype(int)\n",
    "\n",
    "X_test['weekend_and_hour_warning'] = ((X_test['weekend_transaction'] == 1) & (X_test['hour_warning'] == 1)).astype(int)\n",
    "X_test['risk_and_distance'] = ((X_test['high_risk_merchant'] == 1) & (X_test['distance_from_home'] == 1)).astype(int)"
   ]
  },
  {
   "cell_type": "markdown",
   "id": "d552c136",
   "metadata": {},
   "source": [
    "#### Feature Enginering\n",
    "\n",
    "Todos os ajustes realizados no X_train devem ser aplicados no X_test, como deleção das variáveis que não foram utilizadas no treino, criação de novas variáveis a partir das análises, transformações de variáveis categoricas S e N para 1 e 0."
   ]
  },
  {
   "cell_type": "code",
   "execution_count": 23,
   "id": "b3bb1a55",
   "metadata": {},
   "outputs": [],
   "source": [
    "X_train_transformed = preprocessor.transform(X_train)\n",
    "X_test_transformed = preprocessor.transform(X_test)\n",
    "\n",
    "X_train_top = pd.DataFrame(X_train_transformed, columns=feature_names)[top_features]\n",
    "X_test_top = pd.DataFrame(X_test_transformed, columns=feature_names)[top_features]"
   ]
  },
  {
   "cell_type": "markdown",
   "id": "fcb45d43",
   "metadata": {},
   "source": [
    "Refizemos o treinamento do modelo com apenas as 10 variáveis mais importantes. Isso reduz a complexidade do modelo, acelera o treinamento e pode até melhorar a generalização, evitando ruídos de variáveis menos relevantes."
   ]
  },
  {
   "cell_type": "code",
   "execution_count": 24,
   "id": "39b4773e",
   "metadata": {},
   "outputs": [
    {
     "data": {
      "text/html": [
       "<style>#sk-container-id-1 {\n",
       "  /* Definition of color scheme common for light and dark mode */\n",
       "  --sklearn-color-text: #000;\n",
       "  --sklearn-color-text-muted: #666;\n",
       "  --sklearn-color-line: gray;\n",
       "  /* Definition of color scheme for unfitted estimators */\n",
       "  --sklearn-color-unfitted-level-0: #fff5e6;\n",
       "  --sklearn-color-unfitted-level-1: #f6e4d2;\n",
       "  --sklearn-color-unfitted-level-2: #ffe0b3;\n",
       "  --sklearn-color-unfitted-level-3: chocolate;\n",
       "  /* Definition of color scheme for fitted estimators */\n",
       "  --sklearn-color-fitted-level-0: #f0f8ff;\n",
       "  --sklearn-color-fitted-level-1: #d4ebff;\n",
       "  --sklearn-color-fitted-level-2: #b3dbfd;\n",
       "  --sklearn-color-fitted-level-3: cornflowerblue;\n",
       "\n",
       "  /* Specific color for light theme */\n",
       "  --sklearn-color-text-on-default-background: var(--sg-text-color, var(--theme-code-foreground, var(--jp-content-font-color1, black)));\n",
       "  --sklearn-color-background: var(--sg-background-color, var(--theme-background, var(--jp-layout-color0, white)));\n",
       "  --sklearn-color-border-box: var(--sg-text-color, var(--theme-code-foreground, var(--jp-content-font-color1, black)));\n",
       "  --sklearn-color-icon: #696969;\n",
       "\n",
       "  @media (prefers-color-scheme: dark) {\n",
       "    /* Redefinition of color scheme for dark theme */\n",
       "    --sklearn-color-text-on-default-background: var(--sg-text-color, var(--theme-code-foreground, var(--jp-content-font-color1, white)));\n",
       "    --sklearn-color-background: var(--sg-background-color, var(--theme-background, var(--jp-layout-color0, #111)));\n",
       "    --sklearn-color-border-box: var(--sg-text-color, var(--theme-code-foreground, var(--jp-content-font-color1, white)));\n",
       "    --sklearn-color-icon: #878787;\n",
       "  }\n",
       "}\n",
       "\n",
       "#sk-container-id-1 {\n",
       "  color: var(--sklearn-color-text);\n",
       "}\n",
       "\n",
       "#sk-container-id-1 pre {\n",
       "  padding: 0;\n",
       "}\n",
       "\n",
       "#sk-container-id-1 input.sk-hidden--visually {\n",
       "  border: 0;\n",
       "  clip: rect(1px 1px 1px 1px);\n",
       "  clip: rect(1px, 1px, 1px, 1px);\n",
       "  height: 1px;\n",
       "  margin: -1px;\n",
       "  overflow: hidden;\n",
       "  padding: 0;\n",
       "  position: absolute;\n",
       "  width: 1px;\n",
       "}\n",
       "\n",
       "#sk-container-id-1 div.sk-dashed-wrapped {\n",
       "  border: 1px dashed var(--sklearn-color-line);\n",
       "  margin: 0 0.4em 0.5em 0.4em;\n",
       "  box-sizing: border-box;\n",
       "  padding-bottom: 0.4em;\n",
       "  background-color: var(--sklearn-color-background);\n",
       "}\n",
       "\n",
       "#sk-container-id-1 div.sk-container {\n",
       "  /* jupyter's `normalize.less` sets `[hidden] { display: none; }`\n",
       "     but bootstrap.min.css set `[hidden] { display: none !important; }`\n",
       "     so we also need the `!important` here to be able to override the\n",
       "     default hidden behavior on the sphinx rendered scikit-learn.org.\n",
       "     See: https://github.com/scikit-learn/scikit-learn/issues/21755 */\n",
       "  display: inline-block !important;\n",
       "  position: relative;\n",
       "}\n",
       "\n",
       "#sk-container-id-1 div.sk-text-repr-fallback {\n",
       "  display: none;\n",
       "}\n",
       "\n",
       "div.sk-parallel-item,\n",
       "div.sk-serial,\n",
       "div.sk-item {\n",
       "  /* draw centered vertical line to link estimators */\n",
       "  background-image: linear-gradient(var(--sklearn-color-text-on-default-background), var(--sklearn-color-text-on-default-background));\n",
       "  background-size: 2px 100%;\n",
       "  background-repeat: no-repeat;\n",
       "  background-position: center center;\n",
       "}\n",
       "\n",
       "/* Parallel-specific style estimator block */\n",
       "\n",
       "#sk-container-id-1 div.sk-parallel-item::after {\n",
       "  content: \"\";\n",
       "  width: 100%;\n",
       "  border-bottom: 2px solid var(--sklearn-color-text-on-default-background);\n",
       "  flex-grow: 1;\n",
       "}\n",
       "\n",
       "#sk-container-id-1 div.sk-parallel {\n",
       "  display: flex;\n",
       "  align-items: stretch;\n",
       "  justify-content: center;\n",
       "  background-color: var(--sklearn-color-background);\n",
       "  position: relative;\n",
       "}\n",
       "\n",
       "#sk-container-id-1 div.sk-parallel-item {\n",
       "  display: flex;\n",
       "  flex-direction: column;\n",
       "}\n",
       "\n",
       "#sk-container-id-1 div.sk-parallel-item:first-child::after {\n",
       "  align-self: flex-end;\n",
       "  width: 50%;\n",
       "}\n",
       "\n",
       "#sk-container-id-1 div.sk-parallel-item:last-child::after {\n",
       "  align-self: flex-start;\n",
       "  width: 50%;\n",
       "}\n",
       "\n",
       "#sk-container-id-1 div.sk-parallel-item:only-child::after {\n",
       "  width: 0;\n",
       "}\n",
       "\n",
       "/* Serial-specific style estimator block */\n",
       "\n",
       "#sk-container-id-1 div.sk-serial {\n",
       "  display: flex;\n",
       "  flex-direction: column;\n",
       "  align-items: center;\n",
       "  background-color: var(--sklearn-color-background);\n",
       "  padding-right: 1em;\n",
       "  padding-left: 1em;\n",
       "}\n",
       "\n",
       "\n",
       "/* Toggleable style: style used for estimator/Pipeline/ColumnTransformer box that is\n",
       "clickable and can be expanded/collapsed.\n",
       "- Pipeline and ColumnTransformer use this feature and define the default style\n",
       "- Estimators will overwrite some part of the style using the `sk-estimator` class\n",
       "*/\n",
       "\n",
       "/* Pipeline and ColumnTransformer style (default) */\n",
       "\n",
       "#sk-container-id-1 div.sk-toggleable {\n",
       "  /* Default theme specific background. It is overwritten whether we have a\n",
       "  specific estimator or a Pipeline/ColumnTransformer */\n",
       "  background-color: var(--sklearn-color-background);\n",
       "}\n",
       "\n",
       "/* Toggleable label */\n",
       "#sk-container-id-1 label.sk-toggleable__label {\n",
       "  cursor: pointer;\n",
       "  display: flex;\n",
       "  width: 100%;\n",
       "  margin-bottom: 0;\n",
       "  padding: 0.5em;\n",
       "  box-sizing: border-box;\n",
       "  text-align: center;\n",
       "  align-items: start;\n",
       "  justify-content: space-between;\n",
       "  gap: 0.5em;\n",
       "}\n",
       "\n",
       "#sk-container-id-1 label.sk-toggleable__label .caption {\n",
       "  font-size: 0.6rem;\n",
       "  font-weight: lighter;\n",
       "  color: var(--sklearn-color-text-muted);\n",
       "}\n",
       "\n",
       "#sk-container-id-1 label.sk-toggleable__label-arrow:before {\n",
       "  /* Arrow on the left of the label */\n",
       "  content: \"▸\";\n",
       "  float: left;\n",
       "  margin-right: 0.25em;\n",
       "  color: var(--sklearn-color-icon);\n",
       "}\n",
       "\n",
       "#sk-container-id-1 label.sk-toggleable__label-arrow:hover:before {\n",
       "  color: var(--sklearn-color-text);\n",
       "}\n",
       "\n",
       "/* Toggleable content - dropdown */\n",
       "\n",
       "#sk-container-id-1 div.sk-toggleable__content {\n",
       "  max-height: 0;\n",
       "  max-width: 0;\n",
       "  overflow: hidden;\n",
       "  text-align: left;\n",
       "  /* unfitted */\n",
       "  background-color: var(--sklearn-color-unfitted-level-0);\n",
       "}\n",
       "\n",
       "#sk-container-id-1 div.sk-toggleable__content.fitted {\n",
       "  /* fitted */\n",
       "  background-color: var(--sklearn-color-fitted-level-0);\n",
       "}\n",
       "\n",
       "#sk-container-id-1 div.sk-toggleable__content pre {\n",
       "  margin: 0.2em;\n",
       "  border-radius: 0.25em;\n",
       "  color: var(--sklearn-color-text);\n",
       "  /* unfitted */\n",
       "  background-color: var(--sklearn-color-unfitted-level-0);\n",
       "}\n",
       "\n",
       "#sk-container-id-1 div.sk-toggleable__content.fitted pre {\n",
       "  /* unfitted */\n",
       "  background-color: var(--sklearn-color-fitted-level-0);\n",
       "}\n",
       "\n",
       "#sk-container-id-1 input.sk-toggleable__control:checked~div.sk-toggleable__content {\n",
       "  /* Expand drop-down */\n",
       "  max-height: 200px;\n",
       "  max-width: 100%;\n",
       "  overflow: auto;\n",
       "}\n",
       "\n",
       "#sk-container-id-1 input.sk-toggleable__control:checked~label.sk-toggleable__label-arrow:before {\n",
       "  content: \"▾\";\n",
       "}\n",
       "\n",
       "/* Pipeline/ColumnTransformer-specific style */\n",
       "\n",
       "#sk-container-id-1 div.sk-label input.sk-toggleable__control:checked~label.sk-toggleable__label {\n",
       "  color: var(--sklearn-color-text);\n",
       "  background-color: var(--sklearn-color-unfitted-level-2);\n",
       "}\n",
       "\n",
       "#sk-container-id-1 div.sk-label.fitted input.sk-toggleable__control:checked~label.sk-toggleable__label {\n",
       "  background-color: var(--sklearn-color-fitted-level-2);\n",
       "}\n",
       "\n",
       "/* Estimator-specific style */\n",
       "\n",
       "/* Colorize estimator box */\n",
       "#sk-container-id-1 div.sk-estimator input.sk-toggleable__control:checked~label.sk-toggleable__label {\n",
       "  /* unfitted */\n",
       "  background-color: var(--sklearn-color-unfitted-level-2);\n",
       "}\n",
       "\n",
       "#sk-container-id-1 div.sk-estimator.fitted input.sk-toggleable__control:checked~label.sk-toggleable__label {\n",
       "  /* fitted */\n",
       "  background-color: var(--sklearn-color-fitted-level-2);\n",
       "}\n",
       "\n",
       "#sk-container-id-1 div.sk-label label.sk-toggleable__label,\n",
       "#sk-container-id-1 div.sk-label label {\n",
       "  /* The background is the default theme color */\n",
       "  color: var(--sklearn-color-text-on-default-background);\n",
       "}\n",
       "\n",
       "/* On hover, darken the color of the background */\n",
       "#sk-container-id-1 div.sk-label:hover label.sk-toggleable__label {\n",
       "  color: var(--sklearn-color-text);\n",
       "  background-color: var(--sklearn-color-unfitted-level-2);\n",
       "}\n",
       "\n",
       "/* Label box, darken color on hover, fitted */\n",
       "#sk-container-id-1 div.sk-label.fitted:hover label.sk-toggleable__label.fitted {\n",
       "  color: var(--sklearn-color-text);\n",
       "  background-color: var(--sklearn-color-fitted-level-2);\n",
       "}\n",
       "\n",
       "/* Estimator label */\n",
       "\n",
       "#sk-container-id-1 div.sk-label label {\n",
       "  font-family: monospace;\n",
       "  font-weight: bold;\n",
       "  display: inline-block;\n",
       "  line-height: 1.2em;\n",
       "}\n",
       "\n",
       "#sk-container-id-1 div.sk-label-container {\n",
       "  text-align: center;\n",
       "}\n",
       "\n",
       "/* Estimator-specific */\n",
       "#sk-container-id-1 div.sk-estimator {\n",
       "  font-family: monospace;\n",
       "  border: 1px dotted var(--sklearn-color-border-box);\n",
       "  border-radius: 0.25em;\n",
       "  box-sizing: border-box;\n",
       "  margin-bottom: 0.5em;\n",
       "  /* unfitted */\n",
       "  background-color: var(--sklearn-color-unfitted-level-0);\n",
       "}\n",
       "\n",
       "#sk-container-id-1 div.sk-estimator.fitted {\n",
       "  /* fitted */\n",
       "  background-color: var(--sklearn-color-fitted-level-0);\n",
       "}\n",
       "\n",
       "/* on hover */\n",
       "#sk-container-id-1 div.sk-estimator:hover {\n",
       "  /* unfitted */\n",
       "  background-color: var(--sklearn-color-unfitted-level-2);\n",
       "}\n",
       "\n",
       "#sk-container-id-1 div.sk-estimator.fitted:hover {\n",
       "  /* fitted */\n",
       "  background-color: var(--sklearn-color-fitted-level-2);\n",
       "}\n",
       "\n",
       "/* Specification for estimator info (e.g. \"i\" and \"?\") */\n",
       "\n",
       "/* Common style for \"i\" and \"?\" */\n",
       "\n",
       ".sk-estimator-doc-link,\n",
       "a:link.sk-estimator-doc-link,\n",
       "a:visited.sk-estimator-doc-link {\n",
       "  float: right;\n",
       "  font-size: smaller;\n",
       "  line-height: 1em;\n",
       "  font-family: monospace;\n",
       "  background-color: var(--sklearn-color-background);\n",
       "  border-radius: 1em;\n",
       "  height: 1em;\n",
       "  width: 1em;\n",
       "  text-decoration: none !important;\n",
       "  margin-left: 0.5em;\n",
       "  text-align: center;\n",
       "  /* unfitted */\n",
       "  border: var(--sklearn-color-unfitted-level-1) 1pt solid;\n",
       "  color: var(--sklearn-color-unfitted-level-1);\n",
       "}\n",
       "\n",
       ".sk-estimator-doc-link.fitted,\n",
       "a:link.sk-estimator-doc-link.fitted,\n",
       "a:visited.sk-estimator-doc-link.fitted {\n",
       "  /* fitted */\n",
       "  border: var(--sklearn-color-fitted-level-1) 1pt solid;\n",
       "  color: var(--sklearn-color-fitted-level-1);\n",
       "}\n",
       "\n",
       "/* On hover */\n",
       "div.sk-estimator:hover .sk-estimator-doc-link:hover,\n",
       ".sk-estimator-doc-link:hover,\n",
       "div.sk-label-container:hover .sk-estimator-doc-link:hover,\n",
       ".sk-estimator-doc-link:hover {\n",
       "  /* unfitted */\n",
       "  background-color: var(--sklearn-color-unfitted-level-3);\n",
       "  color: var(--sklearn-color-background);\n",
       "  text-decoration: none;\n",
       "}\n",
       "\n",
       "div.sk-estimator.fitted:hover .sk-estimator-doc-link.fitted:hover,\n",
       ".sk-estimator-doc-link.fitted:hover,\n",
       "div.sk-label-container:hover .sk-estimator-doc-link.fitted:hover,\n",
       ".sk-estimator-doc-link.fitted:hover {\n",
       "  /* fitted */\n",
       "  background-color: var(--sklearn-color-fitted-level-3);\n",
       "  color: var(--sklearn-color-background);\n",
       "  text-decoration: none;\n",
       "}\n",
       "\n",
       "/* Span, style for the box shown on hovering the info icon */\n",
       ".sk-estimator-doc-link span {\n",
       "  display: none;\n",
       "  z-index: 9999;\n",
       "  position: relative;\n",
       "  font-weight: normal;\n",
       "  right: .2ex;\n",
       "  padding: .5ex;\n",
       "  margin: .5ex;\n",
       "  width: min-content;\n",
       "  min-width: 20ex;\n",
       "  max-width: 50ex;\n",
       "  color: var(--sklearn-color-text);\n",
       "  box-shadow: 2pt 2pt 4pt #999;\n",
       "  /* unfitted */\n",
       "  background: var(--sklearn-color-unfitted-level-0);\n",
       "  border: .5pt solid var(--sklearn-color-unfitted-level-3);\n",
       "}\n",
       "\n",
       ".sk-estimator-doc-link.fitted span {\n",
       "  /* fitted */\n",
       "  background: var(--sklearn-color-fitted-level-0);\n",
       "  border: var(--sklearn-color-fitted-level-3);\n",
       "}\n",
       "\n",
       ".sk-estimator-doc-link:hover span {\n",
       "  display: block;\n",
       "}\n",
       "\n",
       "/* \"?\"-specific style due to the `<a>` HTML tag */\n",
       "\n",
       "#sk-container-id-1 a.estimator_doc_link {\n",
       "  float: right;\n",
       "  font-size: 1rem;\n",
       "  line-height: 1em;\n",
       "  font-family: monospace;\n",
       "  background-color: var(--sklearn-color-background);\n",
       "  border-radius: 1rem;\n",
       "  height: 1rem;\n",
       "  width: 1rem;\n",
       "  text-decoration: none;\n",
       "  /* unfitted */\n",
       "  color: var(--sklearn-color-unfitted-level-1);\n",
       "  border: var(--sklearn-color-unfitted-level-1) 1pt solid;\n",
       "}\n",
       "\n",
       "#sk-container-id-1 a.estimator_doc_link.fitted {\n",
       "  /* fitted */\n",
       "  border: var(--sklearn-color-fitted-level-1) 1pt solid;\n",
       "  color: var(--sklearn-color-fitted-level-1);\n",
       "}\n",
       "\n",
       "/* On hover */\n",
       "#sk-container-id-1 a.estimator_doc_link:hover {\n",
       "  /* unfitted */\n",
       "  background-color: var(--sklearn-color-unfitted-level-3);\n",
       "  color: var(--sklearn-color-background);\n",
       "  text-decoration: none;\n",
       "}\n",
       "\n",
       "#sk-container-id-1 a.estimator_doc_link.fitted:hover {\n",
       "  /* fitted */\n",
       "  background-color: var(--sklearn-color-fitted-level-3);\n",
       "}\n",
       "</style><div id=\"sk-container-id-1\" class=\"sk-top-container\"><div class=\"sk-text-repr-fallback\"><pre>RandomForestClassifier(criterion=&#x27;entropy&#x27;, min_samples_split=10,\n",
       "                       n_estimators=150)</pre><b>In a Jupyter environment, please rerun this cell to show the HTML representation or trust the notebook. <br />On GitHub, the HTML representation is unable to render, please try loading this page with nbviewer.org.</b></div><div class=\"sk-container\" hidden><div class=\"sk-item\"><div class=\"sk-estimator fitted sk-toggleable\"><input class=\"sk-toggleable__control sk-hidden--visually\" id=\"sk-estimator-id-1\" type=\"checkbox\" checked><label for=\"sk-estimator-id-1\" class=\"sk-toggleable__label fitted sk-toggleable__label-arrow\"><div><div>RandomForestClassifier</div></div><div><a class=\"sk-estimator-doc-link fitted\" rel=\"noreferrer\" target=\"_blank\" href=\"https://scikit-learn.org/1.6/modules/generated/sklearn.ensemble.RandomForestClassifier.html\">?<span>Documentation for RandomForestClassifier</span></a><span class=\"sk-estimator-doc-link fitted\">i<span>Fitted</span></span></div></label><div class=\"sk-toggleable__content fitted\"><pre>RandomForestClassifier(criterion=&#x27;entropy&#x27;, min_samples_split=10,\n",
       "                       n_estimators=150)</pre></div> </div></div></div></div>"
      ],
      "text/plain": [
       "RandomForestClassifier(criterion='entropy', min_samples_split=10,\n",
       "                       n_estimators=150)"
      ]
     },
     "execution_count": 24,
     "metadata": {},
     "output_type": "execute_result"
    }
   ],
   "source": [
    "raw_params = results['Random Forest']['best_params']\n",
    "best_params = {k.split('__')[1]: v for k, v in raw_params.items() if k.startswith('classifier__')}\n",
    "final_model = RandomForestClassifier(**best_params)\n",
    "\n",
    "final_model.fit(X_train_top, y_train)"
   ]
  },
  {
   "cell_type": "markdown",
   "id": "4e54dfc2",
   "metadata": {},
   "source": [
    "Criando o modelo final com os melhores hiperparametros localizados e treinando apenas com as 10 variáveis mais importantes"
   ]
  },
  {
   "cell_type": "code",
   "execution_count": 25,
   "id": "65ee5455",
   "metadata": {},
   "outputs": [
    {
     "name": "stdout",
     "output_type": "stream",
     "text": [
      "\n",
      "Relatório de Classificação:\n",
      "\n",
      "              precision    recall  f1-score   support\n",
      "\n",
      "       False       0.96      1.00      0.98     11978\n",
      "        True       0.99      0.84      0.91      2990\n",
      "\n",
      "    accuracy                           0.97     14968\n",
      "   macro avg       0.97      0.92      0.94     14968\n",
      "weighted avg       0.97      0.97      0.97     14968\n",
      "\n"
     ]
    },
    {
     "data": {
      "image/png": "[encoded data removed]",
      "text/plain": [
       "<Figure size 600x400 with 2 Axes>"
      ]
     },
     "metadata": {},
     "output_type": "display_data"
    },
    {
     "data": {
      "image/png": "[encoded data removed]",
      "text/plain": [
       "<Figure size 640x480 with 1 Axes>"
      ]
     },
     "metadata": {},
     "output_type": "display_data"
    },
    {
     "data": {
      "image/png": "[encoded data removed]",
      "text/plain": [
       "<Figure size 640x480 with 1 Axes>"
      ]
     },
     "metadata": {},
     "output_type": "display_data"
    }
   ],
   "source": [
    "y_pred = final_model.predict(X_test_top)\n",
    "\n",
    "# Classification Report\n",
    "print(\"\\nRelatório de Classificação:\\n\")\n",
    "print(classification_report(y_test, y_pred))\n",
    "\n",
    "# Confusion Matrix\n",
    "cm = confusion_matrix(y_test, y_pred)\n",
    "plt.figure(figsize=(6, 4))\n",
    "sns.heatmap(cm, annot=True, cmap=sns.color_palette(['#023047', '#e85d04', '#0077b6', '#ff8200', '#0096c7', '#ff9c33']), fmt='d')\n",
    "plt.title(\"Matriz de Confusão\")\n",
    "plt.show()\n",
    "\n",
    "# ROC Curve\n",
    "y_proba = final_model.predict_proba(X_test_top)[:, 1]\n",
    "fpr, tpr, _ = roc_curve(y_test, y_proba)\n",
    "roc_auc = auc(fpr, tpr)\n",
    "\n",
    "plt.figure()\n",
    "plt.plot(fpr, tpr, label=f'AUC = {roc_auc:.2f}', color=sns.color_palette(['#023047'])[0])\n",
    "plt.plot([0, 1], [0, 1], 'k--')\n",
    "plt.title(\"Curva ROC\")\n",
    "plt.xlabel(\"FPR\")\n",
    "plt.ylabel(\"TPR\")\n",
    "plt.legend()\n",
    "plt.show()\n",
    "\n",
    "# Precision-Recall Curve\n",
    "y_scores = final_model.predict_proba(X_test_top)[:, 1]\n",
    "precision, recall, _ = precision_recall_curve(y_test, y_scores)\n",
    "pr_auc = average_precision_score(y_test, y_scores)\n",
    "\n",
    "plt.figure()\n",
    "plt.plot(recall, precision, label=f'PR AUC = {pr_auc:.2f}', color='#0077b6')\n",
    "plt.xlabel('Recall')\n",
    "plt.ylabel('Precision')\n",
    "plt.title('Precision-Recall Curve')\n",
    "plt.legend()\n",
    "plt.show()"
   ]
  },
  {
   "cell_type": "markdown",
   "id": "8997cf3a",
   "metadata": {},
   "source": [
    "Gerando novamente as métricas do modelo agora já com todos os tratamentos aplicados para verificar se houve diferença no resultado.  \n",
    "As métricas continuam muito semelhantes, porém agora o modelo está mais rápido, mais facil de ser explicado, com redução de dimensionalidade para versões futuras do pipeline e com uma melhor visualização das variáveis que realmente importam"
   ]
  },
  {
   "cell_type": "markdown",
   "id": "ab521287",
   "metadata": {},
   "source": [
    "### Não processamento\n",
    "\n",
    "A seguir, existem algumas etapas que eu gostaria de realizar, porém está sendo muito custosa para o meu computador. Sendo assim ficarão apenas os comentários explicativos com a finalidade de cada etapa."
   ]
  },
  {
   "cell_type": "markdown",
   "id": "1fbc5707",
   "metadata": {},
   "source": [
    "#### Interpretação do Modelo com SHAP\n",
    "\n",
    "Após treinar o modelo final, é fundamental entender por que ele toma determinadas decisões.\n",
    "\n",
    "Utilizamos a biblioteca SHAP (SHapley Additive exPlanations) para interpretar as previsões do modelo. Essa ferramenta nos ajuda a:\n",
    "\n",
    "- Medir a **importância das variáveis** em cada previsão\n",
    "- Visualizar o **impacto individual de cada feature**\n",
    "- Identificar padrões de comportamento do modelo\n",
    "\n",
    "Isso é especialmente importante em contextos sensíveis como fraude, onde decisões precisam ser justificáveis."
   ]
  },
  {
   "cell_type": "code",
   "execution_count": null,
   "id": "6eb86f18",
   "metadata": {},
   "outputs": [],
   "source": [
    "explainer = shap.Explainer(final_model.predict, X_train_top)\n",
    "shap_values = explainer(X_train_top)\n",
    "\n",
    "shap.plots.beeswarm(shap_values)"
   ]
  },
  {
   "cell_type": "markdown",
   "id": "4e9a2866",
   "metadata": {},
   "source": [
    "Visualização Global com Beeswarm Plot\n",
    "\n",
    "O gráfico beeswarm mostra uma visão global do impacto de cada variável nas decisões do modelo.\n",
    "\n",
    "Cada ponto representa uma observação, e:\n",
    "\n",
    "- A **posição horizontal** mostra o impacto de uma feature em uma previsão\n",
    "- A **cor** indica o valor da feature (ex: valor alto ou baixo)\n",
    "- A **ordem** indica a importância geral da feature\n",
    "\n",
    "Isso permite entender quais variáveis têm mais influência no comportamento do modelo."
   ]
  },
  {
   "cell_type": "code",
   "execution_count": null,
   "id": "9f227cd9",
   "metadata": {},
   "outputs": [],
   "source": [
    "shap.plots.bar(shap_values)"
   ]
  },
  {
   "cell_type": "markdown",
   "id": "13666d7f",
   "metadata": {},
   "source": [
    "Visualização de Importância das Features (Bar Plot)\n",
    "\n",
    "O gráfico de barras mostra as variáveis mais importantes com base na magnitude média dos valores SHAP.\n",
    "\n",
    "Diferente do beeswarm, este gráfico foca apenas na importância média, ignorando o sinal (positivo ou negativo) do impacto.\n",
    "\n",
    "É útil para destacar as variáveis-chave que o modelo considera com maior frequência."
   ]
  },
  {
   "cell_type": "code",
   "execution_count": null,
   "id": "8435a2d4",
   "metadata": {},
   "outputs": [],
   "source": [
    "shap.plots.waterfall(shap_values[0])"
   ]
  },
  {
   "cell_type": "markdown",
   "id": "655350e0",
   "metadata": {},
   "source": [
    "Explicação Local: Previsão Individual com Waterfall\n",
    "\n",
    "O gráfico waterfall detalha a explicação de uma única previsão.\n",
    "\n",
    "Ele mostra como cada variável contribuiu para aumentar ou diminuir a probabilidade de fraude em um caso específico. Isso é útil para:\n",
    "\n",
    "- Compreender casos quase fraude\n",
    "- Explicar decisões para clientes ou áreas de negócio"
   ]
  },
  {
   "cell_type": "code",
   "execution_count": null,
   "id": "b3b965f1",
   "metadata": {},
   "outputs": [],
   "source": [
    "erro_fp = (y_pred == 1) & (y_train == 0)\n",
    "idx_fp = np.where(erro_fp)[0][0]\n",
    "\n",
    "shap.plots.waterfall(shap_values[idx_fp])"
   ]
  },
  {
   "cell_type": "markdown",
   "id": "31214ad8",
   "metadata": {},
   "source": [
    "### Etapa 8 - Conclusão e interpretação dos resultados\n",
    "\n",
    "Depois de avaliar o modelo, precisamos traduzir os resultados em\n",
    "linguagem de negócio.\n",
    "- O modelo é viável para uso real?\n",
    "- Ele melhora significativamente o processo atual de detecção?\n",
    "- Quais variáveis mais influenciam nas decisões?\n",
    "- É possível aplicar ações de mitigação com base nos resultados?  \n",
    "\n",
    "Essa etapa conecta a ciência de dados com decisões reais no mundo."
   ]
  },
  {
   "cell_type": "markdown",
   "id": "1cbc643b",
   "metadata": {},
   "source": [
    "O projeto de detecção de fraudes com machine learning demonstrou que é possível construir um pipeline robusto e interpretável, desde a preparação dos dados até a avaliação e explicabilidade do modelo. Através da aplicação de técnicas como validação cruzada, otimização de hiperparâmetros e análise de importância de variáveis, foi possível selecionar um modelo com bom desempenho preditivo e generalização."
   ]
  },
  {
   "cell_type": "markdown",
   "id": "3ad3c6fd",
   "metadata": {},
   "source": [
    "### Impacto Financeiro\n",
    "\n",
    "O conjunto de dados utilizado apresenta um total de fraudes equivalente a US$ 1.720.647.733,96 (um bilhão, setecentos e vinte milhões, seiscentos e quarenta e sete mil, setecentos e trinta e três dólares e noventa e seis centavos).\n",
    "\n",
    "O modelo desenvolvido foi capaz de identificar 84% dessas fraudes, o que representa um valor detectado de US$ 1.445.343.099,53.\n",
    "\n",
    "Consequentemente, 16% das fraudes não foram detectadas, o que equivale a US$ 275.304.634,43 em possíveis perdas.\n",
    "\n",
    "### Cenário sem modelo\n",
    "\n",
    "Em um cenário sem uso de machine learning, considerando uma estimativa conservadora de detecção manual entre 5% e 10%, temos como referência 10%, o que representa uma detecção de US$ 172.064.773,40 e, portanto, um prejuízo de US$ 1.548.582.960,56.\n",
    "\n",
    "### Ganho estimado com o modelo\n",
    "\n",
    "Com base nesses valores, o uso do modelo teria proporcionado uma redução de perdas de aproximadamente US$ 1.273.039.861,13, representando um ganho financeiro considerável em relação à abordagem manual tradicional."
   ]
  }
 ],
 "metadata": {
  "kernelspec": {
   "display_name": "Python 3",
   "language": "python",
   "name": "python3"
  },
  "language_info": {
   "codemirror_mode": {
    "name": "ipython",
    "version": 3
   },
   "file_extension": ".py",
   "mimetype": "text/x-python",
   "name": "python",
   "nbconvert_exporter": "python",
   "pygments_lexer": "ipython3",
   "version": "3.13.1"
  }
 },
 "nbformat": 4,
 "nbformat_minor": 5
}
